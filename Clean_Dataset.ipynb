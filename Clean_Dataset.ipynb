{
 "cells": [
  {
   "cell_type": "markdown",
   "metadata": {},
   "source": [
    "# Import"
   ]
  },
  {
   "cell_type": "code",
   "execution_count": 66,
   "metadata": {},
   "outputs": [],
   "source": [
    "import pandas as pd\n",
    "import numpy as np\n",
    "\n",
    "# from IPython.display import display\n",
    "# pd.options.display.max_columns = 500\n",
    "# pd.options.display.max_rows = 500\n",
    "\n",
    "%matplotlib inline"
   ]
  },
  {
   "cell_type": "code",
   "execution_count": 67,
   "metadata": {},
   "outputs": [],
   "source": [
    "train_raw = pd.read_csv('data/train.csv')"
   ]
  },
  {
   "cell_type": "code",
   "execution_count": 68,
   "metadata": {},
   "outputs": [],
   "source": [
    "train_df = pd.read_csv('data/train.csv')\n",
    "train_df = train_df.drop('Id', axis = 1)"
   ]
  },
  {
   "cell_type": "code",
   "execution_count": 69,
   "metadata": {},
   "outputs": [],
   "source": [
    "test_df = pd.read_csv('data/test.csv')"
   ]
  },
  {
   "cell_type": "code",
   "execution_count": 70,
   "metadata": {},
   "outputs": [],
   "source": [
    "y = train_df['SalePrice']\n",
    "train_df = train_df.drop('SalePrice', axis=1)"
   ]
  },
  {
   "cell_type": "markdown",
   "metadata": {},
   "source": [
    "# Divide varbles by type"
   ]
  },
  {
   "cell_type": "code",
   "execution_count": 71,
   "metadata": {},
   "outputs": [],
   "source": [
    "# date variables\n",
    "date_vars = ['YearBuilt', 'YearRemodAdd', 'GarageYrBlt', 'MoSold', 'YrSold']\n",
    "\n",
    "# list comprehension of continuous variables that are not dates\n",
    "cont_vars = [cont_var for cont_var in train_df.columns if\n",
    "        (train_df[cont_var].dtype == 'float64') | (train_df[cont_var].dtype == 'int64')\n",
    "        and not cont_var in date_vars]\n",
    "\n",
    "# change continus varibles to float\n",
    "train_df[cont_vars] = train_df[cont_vars].astype('float64')\n",
    "\n",
    "# create dataframe of date variables\n",
    "dates = train_df[date_vars].astype(object)"
   ]
  },
  {
   "cell_type": "code",
   "execution_count": 72,
   "metadata": {},
   "outputs": [],
   "source": [
    "# dict compehension of the frequncy of unique varibales\n",
    "cont_freq = {cont_var: train_df[cont_var].nunique() for cont_var in cont_vars}\n",
    "# frequency data frame\n",
    "cont_freq_df = pd.DataFrame.from_dict(cont_freq, orient='index').rename(columns={0: 'freq'})\n",
    "# continuous variables with few unique values\n",
    "low_vol_cont = ['LowQualFinSF', '3SsnPorch', 'PoolArea']\n",
    "# variabkes with Nan as the mode\n",
    "mode_na = ['Alley', 'PoolQC', 'Fence','MiscFeature', 'FireplaceQu']\n"
   ]
  },
  {
   "cell_type": "code",
   "execution_count": 73,
   "metadata": {},
   "outputs": [],
   "source": [
    "# data frame with numerical variables \n",
    "nums = train_df[list(cont_freq_df[cont_freq_df.freq >= 50].index)].astype(object)\n",
    "\n",
    "num_cats = train_df[list(cont_freq_df[cont_freq_df.freq < 50].index)].astype(object)\n",
    "\n",
    "# list of non categorical variables\n",
    "non_cat = list(nums.columns) + list(dates.columns) + list(num_cats.columns) + mode_na\n",
    "# data frame with only categorical\n",
    "cats =  train_df.drop(non_cat, axis = 1)\n",
    "\n",
    "# data frame with categoricals where the mode is nan\n",
    "cats_na = train_df[mode_na]\n",
    "\n",
    "# move continuous variables with low-frequency from num_cats to nums\n",
    "nums[low_vol_cont] = num_cats[low_vol_cont]\n",
    "num_cats = num_cats.drop(low_vol_cont, axis=1)"
   ]
  },
  {
   "cell_type": "markdown",
   "metadata": {},
   "source": [
    "# Fill numarical missing with 0"
   ]
  },
  {
   "cell_type": "code",
   "execution_count": 74,
   "metadata": {},
   "outputs": [],
   "source": [
    "nums = nums.fillna(0)"
   ]
  },
  {
   "cell_type": "markdown",
   "metadata": {},
   "source": [
    "# Add dummies remove dominate and original categorical columns"
   ]
  },
  {
   "cell_type": "code",
   "execution_count": 75,
   "metadata": {},
   "outputs": [],
   "source": [
    "def add_dummies_remove_modes(dummy_list, df_raw, df):\n",
    "    \"\"\" \n",
    "    add_dummies_remove_modes (dummy_list, df_raw, df)\n",
    "    takes a list of column names `dummy_list` to dummify then drop \n",
    "    after dummification, a reference dataframe `df_raw` to search for \n",
    "    the dominant value of each varable in `dummy_list` then drop the \n",
    "    dominant dummy variable and a dataframe `df` you wish to concat \n",
    "    dummified variables to.\n",
    "    \"\"\"\n",
    "\n",
    "    dummy_modes = list(df_raw[dummy_list].mode().iloc[0,:].items())\n",
    "\n",
    "    dummy_modes = [(col, (float(mode))) \n",
    "                   if type(mode) == int else (col, mode) for col, mode in dummy_modes]\n",
    "\n",
    "    drop_modes = list(map(lambda x: str(x[0]) + '_' + str(x[1]), dummy_modes))\n",
    "\n",
    "    dummy_cols = pd.get_dummies(\n",
    "        df[dummy_list].astype(object), dummy_na=True).drop(drop_modes, axis=1)\n",
    "\n",
    "    return pd.concat([\n",
    "       df.drop(dummy_list, axis=1),\n",
    "       dummy_cols], axis=1)\n"
   ]
  },
  {
   "cell_type": "markdown",
   "metadata": {},
   "source": [
    "# Numarical Categorical to Dummies"
   ]
  },
  {
   "cell_type": "code",
   "execution_count": 76,
   "metadata": {},
   "outputs": [],
   "source": [
    "num_cats_raw = num_cats\n",
    "\n",
    "# # impute numarical categoricals with mode\n",
    "# num_cats = num_cats.fillna(num_cats.mode())\n",
    "\n",
    "# # dummify categotical numericals\n",
    "# num_cats = add_dummies_remove_modes(list(num_cats.columns), train_df, num_cats)\n",
    "\n",
    "# # drop columns that are all 0\n",
    "# num_cats = num_cats.drop(\n",
    "#     num_cats.columns[num_cats.sum()==0], axis=1)\n"
   ]
  },
  {
   "cell_type": "markdown",
   "metadata": {},
   "source": [
    "# Categorical to Dummies"
   ]
  },
  {
   "cell_type": "code",
   "execution_count": 77,
   "metadata": {},
   "outputs": [],
   "source": [
    "cats_raw = cats\n",
    "\n",
    "#cats dummies\n",
    "cats = add_dummies_remove_modes(list(cats.columns), train_df, cats)\n",
    "\n",
    "cats = cats.drop(cats.columns[cats.sum()==0], axis=1)"
   ]
  },
  {
   "cell_type": "markdown",
   "metadata": {},
   "source": [
    "# Dummify columns with NA as mode"
   ]
  },
  {
   "cell_type": "code",
   "execution_count": 78,
   "metadata": {},
   "outputs": [],
   "source": [
    "cats_na_raw = cats_na\n",
    "cats_na = pd.get_dummies(cats_na)\n",
    "\n",
    "cats_na = cats_na.drop(cats_na.columns[cats_na.sum()==0], axis=1)"
   ]
  },
  {
   "cell_type": "markdown",
   "metadata": {},
   "source": [
    "# Change GarageYrBlt to binary variable"
   ]
  },
  {
   "cell_type": "code",
   "execution_count": 79,
   "metadata": {},
   "outputs": [],
   "source": [
    "dates['GarageYrBlt'] = dates['GarageYrBlt'].isna().apply(lambda x: int(not x))"
   ]
  },
  {
   "cell_type": "code",
   "execution_count": 80,
   "metadata": {},
   "outputs": [],
   "source": [
    "test_df['GarageYrBlt'] = test_df['GarageYrBlt'].isna().apply(lambda x: int(not x))"
   ]
  },
  {
   "cell_type": "markdown",
   "metadata": {},
   "source": [
    "# Concat final data frame"
   ]
  },
  {
   "cell_type": "code",
   "execution_count": 81,
   "metadata": {},
   "outputs": [],
   "source": [
    "df_train_final = pd.concat([dates, nums, num_cats, cats, cats_na], axis=1)"
   ]
  },
  {
   "cell_type": "markdown",
   "metadata": {},
   "source": [
    "# DF with raw featrues"
   ]
  },
  {
   "cell_type": "code",
   "execution_count": 82,
   "metadata": {},
   "outputs": [],
   "source": [
    "df_train_raw = pd.concat([dates, nums, num_cats_raw, cats_raw.fillna(0), cats_na_raw.fillna(0)], axis=1)"
   ]
  },
  {
   "cell_type": "code",
   "execution_count": 83,
   "metadata": {},
   "outputs": [],
   "source": [
    "df_test_raw = test_df"
   ]
  },
  {
   "cell_type": "markdown",
   "metadata": {},
   "source": [
    "# Quality Check"
   ]
  },
  {
   "cell_type": "code",
   "execution_count": 84,
   "metadata": {},
   "outputs": [
    {
     "data": {
      "text/plain": [
       "(1460, 261)"
      ]
     },
     "execution_count": 84,
     "metadata": {},
     "output_type": "execute_result"
    }
   ],
   "source": [
    "df_train_final.shape"
   ]
  },
  {
   "cell_type": "code",
   "execution_count": 85,
   "metadata": {},
   "outputs": [
    {
     "data": {
      "text/plain": [
       "{'BsmtCond_nan',\n",
       " 'BsmtFinType1_nan',\n",
       " 'Exterior2nd_CBlock',\n",
       " 'GarageCond_nan',\n",
       " 'GarageFinish_nan',\n",
       " 'GarageQual_nan'}"
      ]
     },
     "execution_count": 85,
     "metadata": {},
     "output_type": "execute_result"
    }
   ],
   "source": [
    "cols_before_drop = set(df_train_final.columns)\n",
    "cols_after_drop = set(df_train_final.T.drop_duplicates(keep='first').T.columns)\n",
    "cols_before_drop - cols_after_drop"
   ]
  },
  {
   "cell_type": "code",
   "execution_count": 86,
   "metadata": {},
   "outputs": [
    {
     "data": {
      "text/plain": [
       "set()"
      ]
     },
     "execution_count": 86,
     "metadata": {},
     "output_type": "execute_result"
    }
   ],
   "source": [
    "cols_after_drop - cols_before_drop"
   ]
  },
  {
   "cell_type": "code",
   "execution_count": 87,
   "metadata": {},
   "outputs": [],
   "source": [
    "df_train_final = df_train_final.T.drop_duplicates(keep='first').T"
   ]
  },
  {
   "cell_type": "code",
   "execution_count": 88,
   "metadata": {},
   "outputs": [
    {
     "data": {
      "text/plain": [
       "(1460, 255)"
      ]
     },
     "execution_count": 88,
     "metadata": {},
     "output_type": "execute_result"
    }
   ],
   "source": [
    "df_train_final.shape"
   ]
  },
  {
   "cell_type": "markdown",
   "metadata": {},
   "source": [
    "# Transform Dummies on Test"
   ]
  },
  {
   "cell_type": "code",
   "execution_count": 89,
   "metadata": {},
   "outputs": [],
   "source": [
    "test_dummy_cols =  cats_raw.columns.tolist() +  cats_na_raw.columns.tolist()"
   ]
  },
  {
   "cell_type": "code",
   "execution_count": 90,
   "metadata": {},
   "outputs": [],
   "source": [
    " test_dummies1 = pd.get_dummies(test_df[test_dummy_cols])"
   ]
  },
  {
   "cell_type": "code",
   "execution_count": 91,
   "metadata": {},
   "outputs": [],
   "source": [
    "test_df = pd.concat([test_dummies1, test_df], axis=1)"
   ]
  },
  {
   "cell_type": "code",
   "execution_count": 92,
   "metadata": {},
   "outputs": [],
   "source": [
    "train_cols = set(df_train_final.columns)\n",
    "test_cols = set(test_df.columns)\n",
    "\n",
    "test_drop =  list(test_cols - train_cols)\n",
    "test_unkonwn_dummies = list(train_cols - test_cols)"
   ]
  },
  {
   "cell_type": "markdown",
   "metadata": {},
   "source": [
    "# Quality Check on Test"
   ]
  },
  {
   "cell_type": "code",
   "execution_count": 93,
   "metadata": {},
   "outputs": [
    {
     "data": {
      "text/plain": [
       "['Street',\n",
       " 'Alley',\n",
       " 'BsmtFinType1_Unf',\n",
       " 'LotConfig',\n",
       " 'KitchenQual',\n",
       " 'Condition2_Norm',\n",
       " 'Exterior1st',\n",
       " 'HeatingQC_Ex',\n",
       " 'Functional_Typ',\n",
       " 'PavedDrive',\n",
       " 'Neighborhood_NAmes',\n",
       " 'SaleCondition',\n",
       " 'Id',\n",
       " 'BsmtFinType2_Unf',\n",
       " 'BsmtQual',\n",
       " 'BsmtFinType1',\n",
       " 'BsmtCond',\n",
       " 'RoofMatl',\n",
       " 'Foundation',\n",
       " 'PoolQC',\n",
       " 'PavedDrive_Y',\n",
       " 'MasVnrType',\n",
       " 'BsmtQual_TA',\n",
       " 'LotShape_Reg',\n",
       " 'BldgType_1Fam',\n",
       " 'SaleType_WD',\n",
       " 'CentralAir_Y',\n",
       " 'CentralAir',\n",
       " 'HouseStyle',\n",
       " 'Exterior2nd_CBlock',\n",
       " 'ExterCond_TA',\n",
       " 'MasVnrType_None',\n",
       " 'MiscFeature',\n",
       " 'GarageType_Attchd',\n",
       " 'BsmtExposure',\n",
       " 'ExterCond',\n",
       " 'GarageQual_TA',\n",
       " 'BsmtExposure_No',\n",
       " 'LandSlope',\n",
       " 'LotConfig_Inside',\n",
       " 'BldgType',\n",
       " 'RoofStyle_Gable',\n",
       " 'Utilities',\n",
       " 'HouseStyle_1Story',\n",
       " 'Electrical_SBrkr',\n",
       " 'GarageFinish_Unf',\n",
       " 'Fence',\n",
       " 'GarageCond',\n",
       " 'BsmtFinType2',\n",
       " 'Exterior1st_VinylSd',\n",
       " 'Utilities_AllPub',\n",
       " 'GarageQual',\n",
       " 'FireplaceQu',\n",
       " 'SaleType',\n",
       " 'LandSlope_Gtl',\n",
       " 'Functional',\n",
       " 'LotShape',\n",
       " 'KitchenQual_TA',\n",
       " 'HeatingQC',\n",
       " 'Neighborhood',\n",
       " 'MSZoning_RL',\n",
       " 'Street_Pave',\n",
       " 'SaleCondition_Normal',\n",
       " 'Heating_GasA',\n",
       " 'MSZoning',\n",
       " 'LandContour_Lvl',\n",
       " 'LandContour',\n",
       " 'GarageType',\n",
       " 'GarageFinish',\n",
       " 'Foundation_PConc',\n",
       " 'Condition1_Norm',\n",
       " 'ExterQual',\n",
       " 'BsmtCond_TA',\n",
       " 'RoofMatl_CompShg',\n",
       " 'Electrical',\n",
       " 'RoofStyle',\n",
       " 'Exterior2nd_VinylSd',\n",
       " 'ExterQual_TA',\n",
       " 'Exterior2nd',\n",
       " 'GarageCond_TA',\n",
       " 'Condition2',\n",
       " 'Heating',\n",
       " 'Condition1']"
      ]
     },
     "execution_count": 93,
     "metadata": {},
     "output_type": "execute_result"
    }
   ],
   "source": [
    "# these are all either the varibles that need to be droped after dummifyin \n",
    "# or are variables show up in train but not test\n",
    "test_drop"
   ]
  },
  {
   "cell_type": "code",
   "execution_count": 94,
   "metadata": {},
   "outputs": [
    {
     "data": {
      "text/plain": [
       "Index(['MSZoning_C (all)', 'MSZoning_FV', 'MSZoning_RH', 'MSZoning_RL',\n",
       "       'MSZoning_RM', 'Street_Grvl', 'Street_Pave', 'LotShape_IR1',\n",
       "       'LotShape_IR2', 'LotShape_IR3',\n",
       "       ...\n",
       "       'ScreenPorch', 'PoolArea', 'PoolQC', 'Fence', 'MiscFeature', 'MiscVal',\n",
       "       'MoSold', 'YrSold', 'SaleType', 'SaleCondition'],\n",
       "      dtype='object', length=314)"
      ]
     },
     "execution_count": 94,
     "metadata": {},
     "output_type": "execute_result"
    }
   ],
   "source": [
    "test_df.columns"
   ]
  },
  {
   "cell_type": "code",
   "execution_count": 95,
   "metadata": {
    "scrolled": true
   },
   "outputs": [
    {
     "data": {
      "text/plain": [
       "['RoofMatl_Metal',\n",
       " 'BsmtFinType2_nan',\n",
       " 'Exterior1st_ImStucc',\n",
       " 'BsmtQual_nan',\n",
       " 'Heating_OthW',\n",
       " 'Condition2_RRAn',\n",
       " 'HouseStyle_2.5Fin',\n",
       " 'Exterior2nd_Other',\n",
       " 'Electrical_Mix',\n",
       " 'Electrical_nan',\n",
       " 'PoolQC_Fa',\n",
       " 'Exterior1st_Stone',\n",
       " 'Heating_Floor',\n",
       " 'GarageType_nan',\n",
       " 'MiscFeature_TenC',\n",
       " 'BsmtExposure_nan',\n",
       " 'GarageQual_Ex',\n",
       " 'RoofMatl_Roll',\n",
       " 'RoofMatl_Membran',\n",
       " 'MasVnrType_nan',\n",
       " 'RoofMatl_ClyTile',\n",
       " 'Utilities_NoSeWa',\n",
       " 'Condition2_RRAe',\n",
       " 'Condition2_RRNn']"
      ]
     },
     "execution_count": 95,
     "metadata": {},
     "output_type": "execute_result"
    }
   ],
   "source": [
    "# these are the dummy variables that do not show up in test\n",
    "test_unkonwn_dummies"
   ]
  },
  {
   "cell_type": "markdown",
   "metadata": {},
   "source": [
    "# Drop test columns that are not in train"
   ]
  },
  {
   "cell_type": "code",
   "execution_count": 96,
   "metadata": {
    "scrolled": true
   },
   "outputs": [],
   "source": [
    "test_df = test_df.drop(test_drop, axis=1)"
   ]
  },
  {
   "cell_type": "markdown",
   "metadata": {},
   "source": [
    "# Add dummies that are unseen in test"
   ]
  },
  {
   "cell_type": "code",
   "execution_count": 97,
   "metadata": {},
   "outputs": [],
   "source": [
    "test_dummies2 = test_df.reindex(columns = test_unkonwn_dummies, fill_value=0)"
   ]
  },
  {
   "cell_type": "code",
   "execution_count": 98,
   "metadata": {},
   "outputs": [],
   "source": [
    "test_df = pd.concat([test_df, test_dummies2], axis=1)"
   ]
  },
  {
   "cell_type": "markdown",
   "metadata": {},
   "source": [
    "# Impute missing with 0"
   ]
  },
  {
   "cell_type": "code",
   "execution_count": 99,
   "metadata": {},
   "outputs": [],
   "source": [
    "test_na_cols = test_df.columns[test_df.isna().sum() > 0]\n",
    "test_df[test_na_cols] = test_df[test_na_cols].fillna(0)"
   ]
  },
  {
   "cell_type": "markdown",
   "metadata": {},
   "source": [
    "# Matching order of train and test"
   ]
  },
  {
   "cell_type": "code",
   "execution_count": 100,
   "metadata": {},
   "outputs": [],
   "source": [
    "test_df = test_df[df_train_final.columns]"
   ]
  },
  {
   "cell_type": "markdown",
   "metadata": {},
   "source": [
    "# Add response variable"
   ]
  },
  {
   "cell_type": "code",
   "execution_count": 101,
   "metadata": {},
   "outputs": [],
   "source": [
    "df_train_final['SalePrice'] = train_raw['SalePrice']"
   ]
  },
  {
   "cell_type": "code",
   "execution_count": 102,
   "metadata": {},
   "outputs": [],
   "source": [
    "df_train_raw['SalePrice'] = train_raw['SalePrice']"
   ]
  },
  {
   "cell_type": "markdown",
   "metadata": {},
   "source": [
    "# Pickle"
   ]
  },
  {
   "cell_type": "code",
   "execution_count": 103,
   "metadata": {},
   "outputs": [],
   "source": [
    "df_train_final.to_pickle('train.pkl')\n",
    "test_df.to_pickle('test.pkl')"
   ]
  },
  {
   "cell_type": "code",
   "execution_count": 44,
   "metadata": {},
   "outputs": [],
   "source": [
    "# df_train_raw.to_pickle('train_no_dummy.pkl')"
   ]
  },
  {
   "cell_type": "code",
   "execution_count": 38,
   "metadata": {},
   "outputs": [],
   "source": [
    "# df_test_raw.to_pickle('test_no_dummy.pkl')"
   ]
  }
 ],
 "metadata": {
  "kernelspec": {
   "display_name": "Python 3",
   "language": "python",
   "name": "python3"
  },
  "language_info": {
   "codemirror_mode": {
    "name": "ipython",
    "version": 3
   },
   "file_extension": ".py",
   "mimetype": "text/x-python",
   "name": "python",
   "nbconvert_exporter": "python",
   "pygments_lexer": "ipython3",
   "version": "3.6.6"
  }
 },
 "nbformat": 4,
 "nbformat_minor": 2
}
