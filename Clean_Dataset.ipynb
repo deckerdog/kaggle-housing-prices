{
 "cells": [
  {
   "cell_type": "markdown",
   "metadata": {},
   "source": [
    "# Import"
   ]
  },
  {
   "cell_type": "code",
   "execution_count": 1,
   "metadata": {},
   "outputs": [],
   "source": [
    "import pandas as pd\n",
    "import numpy as np\n",
    "\n",
    "# from IPython.display import display\n",
    "# pd.options.display.max_columns = 500\n",
    "# pd.options.display.max_rows = 500\n",
    "\n",
    "%matplotlib inline"
   ]
  },
  {
   "cell_type": "code",
   "execution_count": 2,
   "metadata": {},
   "outputs": [],
   "source": [
    "train_raw = pd.read_csv('data/train.csv')"
   ]
  },
  {
   "cell_type": "code",
   "execution_count": 3,
   "metadata": {},
   "outputs": [],
   "source": [
    "train_df = pd.read_csv('data/train.csv')\n",
    "train_df = train_df.drop('Id', axis = 1)"
   ]
  },
  {
   "cell_type": "code",
   "execution_count": 4,
   "metadata": {},
   "outputs": [],
   "source": [
    "test_df = pd.read_csv('data/test.csv')"
   ]
  },
  {
   "cell_type": "code",
   "execution_count": 5,
   "metadata": {},
   "outputs": [],
   "source": [
    "y = train_df['SalePrice']\n",
    "train_df = train_df.drop('SalePrice', axis=1)"
   ]
  },
  {
   "cell_type": "markdown",
   "metadata": {},
   "source": [
    "# Divide varbles by type"
   ]
  },
  {
   "cell_type": "code",
   "execution_count": 6,
   "metadata": {},
   "outputs": [],
   "source": [
    "# date variables\n",
    "date_vars = ['YearBuilt', 'YearRemodAdd', 'GarageYrBlt', 'MoSold', 'YrSold']\n",
    "\n",
    "# list comprehension of continuous variables that are not dates\n",
    "cont_vars = [cont_var for cont_var in train_df.columns if\n",
    "        (train_df[cont_var].dtype == 'float64') | (train_df[cont_var].dtype == 'int64')\n",
    "        and not cont_var in date_vars]\n",
    "\n",
    "# change continus varibles to float\n",
    "train_df[cont_vars] = train_df[cont_vars].astype('float64')\n",
    "\n",
    "# create dataframe of date variables\n",
    "dates = train_df[date_vars].astype(object)"
   ]
  },
  {
   "cell_type": "code",
   "execution_count": 7,
   "metadata": {},
   "outputs": [],
   "source": [
    "# dict compehension of the frequncy of unique varibales\n",
    "cont_freq = {cont_var: train_df[cont_var].nunique() for cont_var in cont_vars}\n",
    "# frequency data frame\n",
    "cont_freq_df = pd.DataFrame.from_dict(cont_freq, orient='index').rename(columns={0: 'freq'})\n",
    "# continuous variables with few unique values\n",
    "low_vol_cont = ['LowQualFinSF', '3SsnPorch', 'PoolArea']\n",
    "# variabkes with Nan as the mode\n",
    "mode_na = ['Alley', 'PoolQC', 'Fence','MiscFeature', 'FireplaceQu']\n"
   ]
  },
  {
   "cell_type": "code",
   "execution_count": 8,
   "metadata": {},
   "outputs": [],
   "source": [
    "# data frame with numerical variables \n",
    "nums = train_df[list(cont_freq_df[cont_freq_df.freq >= 50].index)].astype(object)\n",
    "\n",
    "num_cats = train_df[list(cont_freq_df[cont_freq_df.freq < 50].index)].astype(object)\n",
    "\n",
    "# list of non categorical variables\n",
    "non_cat = list(nums.columns) + list(dates.columns) + list(num_cats.columns) + mode_na\n",
    "# data frame with only categorical\n",
    "cats =  train_df.drop(non_cat, axis = 1)\n",
    "\n",
    "# data frame with categoricals where the mode is nan\n",
    "cats_na = train_df[mode_na]\n",
    "\n",
    "# move continuous variables with low-frequency from num_cats to nums\n",
    "nums[low_vol_cont] = num_cats[low_vol_cont]\n",
    "num_cats = num_cats.drop(low_vol_cont, axis=1)"
   ]
  },
  {
   "cell_type": "markdown",
   "metadata": {},
   "source": [
    "# Fill numarical missing with 0"
   ]
  },
  {
   "cell_type": "code",
   "execution_count": 9,
   "metadata": {},
   "outputs": [],
   "source": [
    "nums = nums.fillna(0)"
   ]
  },
  {
   "cell_type": "markdown",
   "metadata": {},
   "source": [
    "# Add dummies remove dominate and original categorical columns"
   ]
  },
  {
   "cell_type": "code",
   "execution_count": 10,
   "metadata": {},
   "outputs": [],
   "source": [
    "def add_dummies_remove_modes(dummy_list, df_raw, df):\n",
    "    \"\"\" \n",
    "    add_dummies_remove_modes (dummy_list, df_raw, df)\n",
    "    takes a list of column names `dummy_list` to dummify then drop \n",
    "    after dummification, a reference dataframe `df_raw` to search for \n",
    "    the dominant value of each varable in `dummy_list` then drop the \n",
    "    dominant dummy variable and a dataframe `df` you wish to concat \n",
    "    dummified variables to.\n",
    "    \"\"\"\n",
    "\n",
    "    dummy_modes = list(df_raw[dummy_list].mode().iloc[0,:].items())\n",
    "\n",
    "    dummy_modes = [(col, (float(mode))) \n",
    "                   if type(mode) == int else (col, mode) for col, mode in dummy_modes]\n",
    "\n",
    "    drop_modes = list(map(lambda x: str(x[0]) + '_' + str(x[1]), dummy_modes))\n",
    "\n",
    "    dummy_cols = pd.get_dummies(\n",
    "        df[dummy_list].astype(object), dummy_na=True).drop(drop_modes, axis=1)\n",
    "\n",
    "    return pd.concat([\n",
    "       df.drop(dummy_list, axis=1),\n",
    "       dummy_cols], axis=1)\n"
   ]
  },
  {
   "cell_type": "markdown",
   "metadata": {},
   "source": [
    "# Numarical Categorical to Dummies"
   ]
  },
  {
   "cell_type": "code",
   "execution_count": 11,
   "metadata": {},
   "outputs": [],
   "source": [
    "num_cats_raw = num_cats\n",
    "\n",
    "# impute numarical categoricals with mode\n",
    "num_cats = num_cats.fillna(num_cats.mode())\n",
    "\n",
    "# dummify categotical numericals\n",
    "num_cats = add_dummies_remove_modes(list(num_cats.columns), train_df, num_cats)\n",
    "\n",
    "# drop columns that are all 0\n",
    "num_cats = num_cats.drop(\n",
    "    num_cats.columns[num_cats.sum()==0], axis=1)\n"
   ]
  },
  {
   "cell_type": "markdown",
   "metadata": {},
   "source": [
    "# Categorical to Dummies"
   ]
  },
  {
   "cell_type": "code",
   "execution_count": 12,
   "metadata": {},
   "outputs": [],
   "source": [
    "cats_raw = cats\n",
    "\n",
    "#cats dummies\n",
    "cats = add_dummies_remove_modes(list(cats.columns), train_df, cats)\n",
    "\n",
    "cats = cats.drop(cats.columns[cats.sum()==0], axis=1)"
   ]
  },
  {
   "cell_type": "markdown",
   "metadata": {},
   "source": [
    "# Dummify columns with NA as mode"
   ]
  },
  {
   "cell_type": "code",
   "execution_count": 13,
   "metadata": {},
   "outputs": [],
   "source": [
    "cats_na_raw = cats_na\n",
    "cats_na = pd.get_dummies(cats_na)\n",
    "\n",
    "cats_na = cats_na.drop(cats_na.columns[cats_na.sum()==0], axis=1)"
   ]
  },
  {
   "cell_type": "markdown",
   "metadata": {},
   "source": [
    "# Change GarageYrBlt to binary variable"
   ]
  },
  {
   "cell_type": "code",
   "execution_count": 14,
   "metadata": {},
   "outputs": [],
   "source": [
    "dates['GarageYrBlt'] = dates['GarageYrBlt'].isna().apply(lambda x: int(not x))"
   ]
  },
  {
   "cell_type": "code",
   "execution_count": 15,
   "metadata": {},
   "outputs": [],
   "source": [
    "test_df['GarageYrBlt'] = test_df['GarageYrBlt'].isna().apply(lambda x: int(not x))"
   ]
  },
  {
   "cell_type": "markdown",
   "metadata": {},
   "source": [
    "# Concat final data frame"
   ]
  },
  {
   "cell_type": "code",
   "execution_count": 16,
   "metadata": {},
   "outputs": [],
   "source": [
    "df_train_final = pd.concat([dates, nums, num_cats, cats, cats_na], axis=1)"
   ]
  },
  {
   "cell_type": "markdown",
   "metadata": {},
   "source": [
    "# Quality Check"
   ]
  },
  {
   "cell_type": "code",
   "execution_count": 17,
   "metadata": {},
   "outputs": [
    {
     "data": {
      "text/plain": [
       "(1460, 337)"
      ]
     },
     "execution_count": 17,
     "metadata": {},
     "output_type": "execute_result"
    }
   ],
   "source": [
    "df_train_final.shape"
   ]
  },
  {
   "cell_type": "code",
   "execution_count": 18,
   "metadata": {},
   "outputs": [
    {
     "data": {
      "text/plain": [
       "{'BldgType_Duplex',\n",
       " 'BsmtCond_nan',\n",
       " 'BsmtFinType1_nan',\n",
       " 'Condition2_RRAe',\n",
       " 'Exterior2nd_CBlock',\n",
       " 'GarageCond_nan',\n",
       " 'GarageFinish_nan',\n",
       " 'GarageQual_nan',\n",
       " 'GarageType_nan',\n",
       " 'TotRmsAbvGrd_14.0'}"
      ]
     },
     "execution_count": 18,
     "metadata": {},
     "output_type": "execute_result"
    }
   ],
   "source": [
    "cols_before_drop = set(df_train_final.columns)\n",
    "cols_after_drop = set(df_train_final.T.drop_duplicates(keep='first').T.columns)\n",
    "cols_before_drop - cols_after_drop"
   ]
  },
  {
   "cell_type": "code",
   "execution_count": 19,
   "metadata": {},
   "outputs": [
    {
     "data": {
      "text/plain": [
       "set()"
      ]
     },
     "execution_count": 19,
     "metadata": {},
     "output_type": "execute_result"
    }
   ],
   "source": [
    "cols_after_drop - cols_before_drop"
   ]
  },
  {
   "cell_type": "code",
   "execution_count": 20,
   "metadata": {},
   "outputs": [],
   "source": [
    "df_train_final = df_train_final.T.drop_duplicates(keep='first').T"
   ]
  },
  {
   "cell_type": "code",
   "execution_count": 21,
   "metadata": {},
   "outputs": [
    {
     "data": {
      "text/plain": [
       "(1460, 327)"
      ]
     },
     "execution_count": 21,
     "metadata": {},
     "output_type": "execute_result"
    }
   ],
   "source": [
    "df_train_final.shape"
   ]
  },
  {
   "cell_type": "markdown",
   "metadata": {},
   "source": [
    "# Transform Dummies on Test"
   ]
  },
  {
   "cell_type": "code",
   "execution_count": 22,
   "metadata": {},
   "outputs": [],
   "source": [
    "test_dummy_cols = num_cats_raw.columns.tolist() +  cats_raw.columns.tolist() +  cats_na_raw.columns.tolist()"
   ]
  },
  {
   "cell_type": "code",
   "execution_count": 23,
   "metadata": {},
   "outputs": [],
   "source": [
    " test_dummies1 = pd.get_dummies(test_df[test_dummy_cols])"
   ]
  },
  {
   "cell_type": "code",
   "execution_count": 24,
   "metadata": {},
   "outputs": [],
   "source": [
    "test_df = pd.concat([test_dummies1, test_df], axis=1)"
   ]
  },
  {
   "cell_type": "code",
   "execution_count": 25,
   "metadata": {},
   "outputs": [],
   "source": [
    "train_cols = set(df_train_final.columns)\n",
    "test_cols = set(test_df.columns)\n",
    "\n",
    "test_drop =  list(test_cols - train_cols)\n",
    "test_unkonwn_dummies = list(train_cols - test_cols)"
   ]
  },
  {
   "cell_type": "markdown",
   "metadata": {},
   "source": [
    "# Quality Check on Test"
   ]
  },
  {
   "cell_type": "code",
   "execution_count": 26,
   "metadata": {},
   "outputs": [
    {
     "data": {
      "text/plain": [
       "['BsmtFinType1',\n",
       " 'MSZoning',\n",
       " 'KitchenQual',\n",
       " 'Exterior1st',\n",
       " 'GarageType',\n",
       " 'BldgType_Duplex',\n",
       " 'GarageCars',\n",
       " 'Condition1',\n",
       " 'LotShape',\n",
       " 'GarageCond_TA',\n",
       " 'GarageQual',\n",
       " 'BedroomAbvGr',\n",
       " 'FullBath',\n",
       " 'CentralAir_Y',\n",
       " 'Alley',\n",
       " 'ExterCond',\n",
       " 'Utilities_AllPub',\n",
       " 'BsmtFullBath',\n",
       " 'Neighborhood',\n",
       " 'RoofMatl',\n",
       " 'Exterior2nd_VinylSd',\n",
       " 'HouseStyle_1Story',\n",
       " 'MiscFeature',\n",
       " 'Exterior2nd_CBlock',\n",
       " 'Street',\n",
       " 'Neighborhood_NAmes',\n",
       " 'RoofStyle_Gable',\n",
       " 'BldgType_1Fam',\n",
       " 'KitchenQual_TA',\n",
       " 'OverallQual',\n",
       " 'Condition1_Norm',\n",
       " 'Utilities',\n",
       " 'LandContour_Lvl',\n",
       " 'RoofMatl_CompShg',\n",
       " 'PavedDrive_Y',\n",
       " 'GarageCond',\n",
       " 'Functional_Typ',\n",
       " 'BsmtQual',\n",
       " 'BsmtExposure_No',\n",
       " 'Fence',\n",
       " 'BsmtQual_TA',\n",
       " 'SaleType',\n",
       " 'HeatingQC_Ex',\n",
       " 'BsmtCond',\n",
       " 'Exterior1st_VinylSd',\n",
       " 'BsmtFinType2',\n",
       " 'OverallCond',\n",
       " 'BldgType',\n",
       " 'Foundation',\n",
       " 'BsmtFinType1_Unf',\n",
       " 'RoofStyle',\n",
       " 'Foundation_PConc',\n",
       " 'LotShape_Reg',\n",
       " 'SaleType_WD',\n",
       " 'Electrical',\n",
       " 'HalfBath',\n",
       " 'CentralAir',\n",
       " 'BsmtFinType2_Unf',\n",
       " 'KitchenAbvGr',\n",
       " 'HeatingQC',\n",
       " 'HouseStyle',\n",
       " 'PoolQC',\n",
       " 'BsmtHalfBath',\n",
       " 'MasVnrType',\n",
       " 'ExterCond_TA',\n",
       " 'Id',\n",
       " 'Heating',\n",
       " 'GarageFinish',\n",
       " 'Condition2_Norm',\n",
       " 'Street_Pave',\n",
       " 'LotConfig',\n",
       " 'LotConfig_Inside',\n",
       " 'ExterQual_TA',\n",
       " 'Exterior2nd',\n",
       " 'SaleCondition_Normal',\n",
       " 'LandSlope',\n",
       " 'Heating_GasA',\n",
       " 'MiscVal',\n",
       " 'MSSubClass',\n",
       " 'MasVnrType_None',\n",
       " 'Fireplaces',\n",
       " 'LandContour',\n",
       " 'TotRmsAbvGrd',\n",
       " 'Functional',\n",
       " 'Condition2',\n",
       " 'LandSlope_Gtl',\n",
       " 'GarageType_Attchd',\n",
       " 'Electrical_SBrkr',\n",
       " 'GarageQual_TA',\n",
       " 'ExterQual',\n",
       " 'BsmtExposure',\n",
       " 'PavedDrive',\n",
       " 'FireplaceQu',\n",
       " 'BsmtCond_TA',\n",
       " 'SaleCondition',\n",
       " 'MSZoning_RL',\n",
       " 'GarageFinish_Unf']"
      ]
     },
     "execution_count": 26,
     "metadata": {},
     "output_type": "execute_result"
    }
   ],
   "source": [
    "# these are all either the varibles that need to be droped after dummifyin \n",
    "# or are variables show up in train but not test\n",
    "test_drop"
   ]
  },
  {
   "cell_type": "code",
   "execution_count": 27,
   "metadata": {
    "scrolled": true
   },
   "outputs": [
    {
     "data": {
      "text/plain": [
       "['MiscVal_500.0',\n",
       " 'OverallQual_2.0',\n",
       " 'OverallQual_4.0',\n",
       " 'MiscVal_450.0',\n",
       " 'TotRmsAbvGrd_11.0',\n",
       " 'GarageCars_4.0',\n",
       " 'GarageCars_3.0',\n",
       " 'BsmtExposure_nan',\n",
       " 'OverallQual_8.0',\n",
       " 'Exterior1st_ImStucc',\n",
       " 'OverallCond_3.0',\n",
       " 'MSSubClass_160.0',\n",
       " 'MiscVal_1400.0',\n",
       " 'OverallQual_7.0',\n",
       " 'OverallCond_6.0',\n",
       " 'KitchenAbvGr_2.0',\n",
       " 'OverallQual_10.0',\n",
       " 'MiscVal_800.0',\n",
       " 'Fireplaces_2.0',\n",
       " 'BedroomAbvGr_8.0',\n",
       " 'TotRmsAbvGrd_8.0',\n",
       " 'MasVnrType_nan',\n",
       " 'BsmtHalfBath_1.0',\n",
       " 'OverallCond_1.0',\n",
       " 'TotRmsAbvGrd_12.0',\n",
       " 'BsmtFullBath_1.0',\n",
       " 'MSSubClass_85.0',\n",
       " 'MiscVal_700.0',\n",
       " 'MiscVal_15500.0',\n",
       " 'BedroomAbvGr_5.0',\n",
       " 'MSSubClass_90.0',\n",
       " 'MiscFeature_TenC',\n",
       " 'MSSubClass_40.0',\n",
       " 'MSSubClass_30.0',\n",
       " 'Heating_OthW',\n",
       " 'BedroomAbvGr_2.0',\n",
       " 'OverallCond_4.0',\n",
       " 'MiscVal_480.0',\n",
       " 'Exterior1st_Stone',\n",
       " 'BsmtHalfBath_2.0',\n",
       " 'HalfBath_1.0',\n",
       " 'MiscVal_1150.0',\n",
       " 'FullBath_3.0',\n",
       " 'TotRmsAbvGrd_7.0',\n",
       " 'TotRmsAbvGrd_10.0',\n",
       " 'BsmtFinType2_nan',\n",
       " 'MiscVal_560.0',\n",
       " 'OverallCond_8.0',\n",
       " 'MiscVal_8300.0',\n",
       " 'TotRmsAbvGrd_5.0',\n",
       " 'MSSubClass_190.0',\n",
       " 'OverallQual_1.0',\n",
       " 'MSSubClass_45.0',\n",
       " 'MiscVal_3500.0',\n",
       " 'MiscVal_620.0',\n",
       " 'TotRmsAbvGrd_3.0',\n",
       " 'BedroomAbvGr_6.0',\n",
       " 'MiscVal_54.0',\n",
       " 'MiscVal_400.0',\n",
       " 'OverallQual_3.0',\n",
       " 'BedroomAbvGr_0.0',\n",
       " 'MSSubClass_60.0',\n",
       " 'Exterior2nd_Other',\n",
       " 'TotRmsAbvGrd_4.0',\n",
       " 'Fireplaces_1.0',\n",
       " 'Fireplaces_3.0',\n",
       " 'MiscVal_600.0',\n",
       " 'TotRmsAbvGrd_9.0',\n",
       " 'OverallQual_6.0',\n",
       " 'HouseStyle_2.5Fin',\n",
       " 'Heating_Floor',\n",
       " 'TotRmsAbvGrd_2.0',\n",
       " 'BsmtFullBath_3.0',\n",
       " 'GarageQual_Ex',\n",
       " 'RoofMatl_Membran',\n",
       " 'RoofMatl_Roll',\n",
       " 'MiscVal_1300.0',\n",
       " 'MiscVal_2500.0',\n",
       " 'KitchenAbvGr_0.0',\n",
       " 'MSSubClass_70.0',\n",
       " 'MSSubClass_50.0',\n",
       " 'OverallCond_7.0',\n",
       " 'Condition2_RRAn',\n",
       " 'BsmtFullBath_2.0',\n",
       " 'BsmtQual_nan',\n",
       " 'FullBath_1.0',\n",
       " 'MSSubClass_80.0',\n",
       " 'FullBath_0.0',\n",
       " 'HalfBath_2.0',\n",
       " 'BedroomAbvGr_1.0',\n",
       " 'BedroomAbvGr_4.0',\n",
       " 'Utilities_NoSeWa',\n",
       " 'RoofMatl_Metal',\n",
       " 'OverallCond_9.0',\n",
       " 'Electrical_Mix',\n",
       " 'OverallCond_2.0',\n",
       " 'KitchenAbvGr_3.0',\n",
       " 'MSSubClass_180.0',\n",
       " 'Condition2_RRNn',\n",
       " 'MSSubClass_120.0',\n",
       " 'GarageCars_1.0',\n",
       " 'Electrical_nan',\n",
       " 'RoofMatl_ClyTile',\n",
       " 'MiscVal_1200.0',\n",
       " 'GarageCars_0.0',\n",
       " 'MiscVal_350.0',\n",
       " 'OverallQual_9.0',\n",
       " 'MiscVal_2000.0',\n",
       " 'PoolQC_Fa',\n",
       " 'MSSubClass_75.0']"
      ]
     },
     "execution_count": 27,
     "metadata": {},
     "output_type": "execute_result"
    }
   ],
   "source": [
    "# these are the dummy variables that do not show up in test\n",
    "test_unkonwn_dummies"
   ]
  },
  {
   "cell_type": "markdown",
   "metadata": {},
   "source": [
    "# Drop test columns that are not in train"
   ]
  },
  {
   "cell_type": "code",
   "execution_count": 28,
   "metadata": {
    "scrolled": true
   },
   "outputs": [],
   "source": [
    "test_df = test_df.drop(test_drop, axis=1)"
   ]
  },
  {
   "cell_type": "markdown",
   "metadata": {},
   "source": [
    "# Add dummies that are unseen in test"
   ]
  },
  {
   "cell_type": "code",
   "execution_count": 29,
   "metadata": {},
   "outputs": [],
   "source": [
    "test_dummies2 = test_df.reindex(columns = test_unkonwn_dummies, fill_value=0)"
   ]
  },
  {
   "cell_type": "code",
   "execution_count": 30,
   "metadata": {},
   "outputs": [],
   "source": [
    "test_df = pd.concat([test_df, test_dummies2], axis=1)"
   ]
  },
  {
   "cell_type": "markdown",
   "metadata": {},
   "source": [
    "# Impute missing with 0"
   ]
  },
  {
   "cell_type": "code",
   "execution_count": 31,
   "metadata": {},
   "outputs": [],
   "source": [
    "test_na_cols = test_df.columns[test_df.isna().sum() > 0]\n",
    "test_df[test_na_cols] = test_df[test_na_cols].fillna(0)"
   ]
  },
  {
   "cell_type": "markdown",
   "metadata": {},
   "source": [
    "# Matching order of train and test"
   ]
  },
  {
   "cell_type": "code",
   "execution_count": 32,
   "metadata": {},
   "outputs": [],
   "source": [
    "test_df = test_df[df_train_final.columns]"
   ]
  },
  {
   "cell_type": "markdown",
   "metadata": {},
   "source": [
    "# Add response variable"
   ]
  },
  {
   "cell_type": "code",
   "execution_count": 33,
   "metadata": {},
   "outputs": [],
   "source": [
    "df_train_final['SalePrice'] = train_raw['SalePrice']"
   ]
  },
  {
   "cell_type": "markdown",
   "metadata": {},
   "source": [
    "# Pickle"
   ]
  },
  {
   "cell_type": "code",
   "execution_count": 34,
   "metadata": {},
   "outputs": [],
   "source": [
    "df_train_final.to_pickle('train.pkl')\n",
    "test_df.to_pickle('test.pkl')"
   ]
  },
  {
   "cell_type": "code",
   "execution_count": null,
   "metadata": {},
   "outputs": [],
   "source": []
  }
 ],
 "metadata": {
  "kernelspec": {
   "display_name": "Python 3",
   "language": "python",
   "name": "python3"
  },
  "language_info": {
   "codemirror_mode": {
    "name": "ipython",
    "version": 3
   },
   "file_extension": ".py",
   "mimetype": "text/x-python",
   "name": "python",
   "nbconvert_exporter": "python",
   "pygments_lexer": "ipython3",
   "version": "3.6.6"
  }
 },
 "nbformat": 4,
 "nbformat_minor": 2
}
