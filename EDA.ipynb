{
 "cells": [
  {
   "cell_type": "markdown",
   "metadata": {},
   "source": [
    "# EDA"
   ]
  },
  {
   "cell_type": "code",
   "execution_count": null,
   "metadata": {},
   "outputs": [],
   "source": [
    "import matplotlib.pyplot as plt\n",
    "import numpy as np\n",
    "import pandas as pd\n",
    "import seaborn as sns\n",
    "\n",
    "from scipy.stats import skew\n",
    "from scipy.special import boxcox1p\n",
    "from scipy.stats import probplot\n",
    "\n",
    "from patsy import dmatrices\n",
    "import statsmodels.api as sm\n",
    "from statsmodels.stats.outliers_influence import variance_inflation_factor\n",
    "\n",
    "\n",
    "from sklearn.preprocessing import StandardScaler\n",
    "\n",
    "from IPython.display import display\n",
    "pd.options.display.max_columns = 500"
   ]
  },
  {
   "cell_type": "code",
   "execution_count": null,
   "metadata": {},
   "outputs": [],
   "source": [
    "train = pd.read_csv('data/train.csv')\n",
    "test = pd.read_csv('data/test.csv')"
   ]
  },
  {
   "cell_type": "markdown",
   "metadata": {},
   "source": [
    "## Remove Outliers"
   ]
  },
  {
   "cell_type": "code",
   "execution_count": null,
   "metadata": {},
   "outputs": [],
   "source": [
    "# remove outliers\n",
    "train = train[~((train['GrLivArea'] > 4000) & (train['SalePrice'] < 300000))]\n",
    "train = train[~((train['MasVnrArea'] > 1400) & (train['SalePrice'] < 300000))]\n",
    "train = train[~((train['LotFrontage'] > 300) & (train['SalePrice'] < 300000 ))]\n",
    "train = train[~((train['LotArea'] > 200000) & (train['SalePrice'] < 500000 ))]\n",
    "# train = train[~((train['YearBuilt'] < 1900) & (train['SalePrice'] > 400000))]\n",
    "train = train[~((train['OpenPorchSF'] > 500) & (train['SalePrice'] < 100000))]\n"
   ]
  },
  {
   "cell_type": "code",
   "execution_count": null,
   "metadata": {},
   "outputs": [],
   "source": [
    "response_variable = np.log1p(train.SalePrice)\n",
    "id_ = test.Id\n",
    "train = train.loc[:,'MSSubClass':'SaleCondition']\n",
    "test = test.loc[:,'MSSubClass':'SaleCondition']\n",
    "\n",
    "train['SalePrice'] = response_variable"
   ]
  },
  {
   "cell_type": "code",
   "execution_count": null,
   "metadata": {},
   "outputs": [],
   "source": [
    "numeric_feats = train.dtypes[train.dtypes != \"object\"].index\n",
    "\n",
    "numeric_feats = train.nunique() > 70\n",
    "numeric_feats = train.T[numeric_feats].index\n",
    "\n",
    "skewed_feats = train[numeric_feats].apply(lambda x: skew(x.dropna()))"
   ]
  },
  {
   "cell_type": "code",
   "execution_count": null,
   "metadata": {},
   "outputs": [],
   "source": [
    "import scipy.stats as stats\n",
    "\n",
    "for col in numeric_feats:\n",
    "    obs = train[col]\n",
    "\n",
    "    z = (obs-np.mean(obs))/np.std(obs)\n",
    "\n",
    "    stats.probplot(z, dist=\"norm\", plot=plt)\n",
    "    plt.title(\"Normal Q-Q plot \"+ col)\n",
    "    plt.show()"
   ]
  },
  {
   "cell_type": "code",
   "execution_count": null,
   "metadata": {},
   "outputs": [],
   "source": [
    "# for col in numeric_feats:\n",
    "#     plt.figure(figsize=(40,20))\n",
    "#     plt.hist(train[col].fillna(train[col].mean()))\n",
    "#     plt.xlabel(col, fontsize=40)\n",
    "#     plt.ylabel('Count', fontsize=40)\n",
    "#     plt.yticks(fontsize=30)\n",
    "#     plt.xticks(fontsize=30)\n",
    "#     plt.title(col + ' Histogram', fontsize=40)\n",
    "#     plt.show()\n"
   ]
  },
  {
   "cell_type": "code",
   "execution_count": null,
   "metadata": {},
   "outputs": [],
   "source": [
    "# skewed_feats"
   ]
  },
  {
   "cell_type": "code",
   "execution_count": null,
   "metadata": {},
   "outputs": [],
   "source": [
    "skewed_feats = skewed_feats[skewed_feats > .65]\n",
    "skewed_index = skewed_feats.index\n",
    "\n",
    "\n",
    "# for col in skewed_index:\n",
    "#     train[col] = power_transform(train[[col]].replace(0,1), method='box-cox', standardize=False)\n",
    "\n",
    "# for col in skewed_index:\n",
    "#     test[col] = power_transform(test[[col]].replace(0,1), method='box-cox', standardize=False)\n",
    "\n",
    "#train[skewed_index] = train[skewed_index].replace(0,1)\n",
    "#test[skewed_index] = test[skewed_index].replace(0,1)\n",
    "\n",
    "train[skewed_index] = boxcox1p(train[skewed_index], 0.1)\n",
    "test[skewed_index] = boxcox1p(test[skewed_index], 0.1)\n",
    "\n",
    "# ss = StandardScaler()\n",
    "# train[skewed_index] = ss.fit_transform(train[skewed_index])\n",
    "# test[skewed_index] = ss.transform(test[skewed_index])"
   ]
  },
  {
   "cell_type": "code",
   "execution_count": null,
   "metadata": {},
   "outputs": [],
   "source": [
    "# train[numeric_feats].apply(lambda x: skew(x.dropna())) #compute skewness"
   ]
  },
  {
   "cell_type": "code",
   "execution_count": null,
   "metadata": {},
   "outputs": [],
   "source": [
    "# for col in numeric_feats:\n",
    "#     plt.figure(figsize=(40,20))\n",
    "#     plt.hist(train[col].fillna(train[col].mean()))\n",
    "#     plt.xlabel(col, fontsize=40)\n",
    "#     plt.ylabel('Count', fontsize=40)\n",
    "#     plt.yticks(fontsize=30)\n",
    "#     plt.xticks(fontsize=30)\n",
    "#     plt.title(col + ' Histogram', fontsize=40)\n",
    "#     plt.show()\n"
   ]
  },
  {
   "cell_type": "code",
   "execution_count": null,
   "metadata": {},
   "outputs": [],
   "source": [
    "obs = train['MasVnrArea']\n",
    "\n",
    "z = (obs-np.mean(obs))/np.std(obs)\n",
    "\n",
    "stats.probplot(z, dist=\"norm\", plot=plt)\n",
    "plt.title(\"Normal Q-Q plot \"+ 'MasVnrArea')\n",
    "plt.show()"
   ]
  },
  {
   "cell_type": "code",
   "execution_count": null,
   "metadata": {},
   "outputs": [],
   "source": [
    "import scipy.stats as stats\n",
    "\n",
    "for col in skewed_index:\n",
    "    obs = train[col]\n",
    "\n",
    "    z = (obs-np.mean(obs))/np.std(obs)\n",
    "\n",
    "    stats.probplot(z, dist=\"norm\", plot=plt)\n",
    "    plt.title(\"Normal Q-Q plot \"+ col)\n",
    "    plt.show()"
   ]
  },
  {
   "cell_type": "markdown",
   "metadata": {},
   "source": [
    "## Correlation"
   ]
  },
  {
   "cell_type": "code",
   "execution_count": null,
   "metadata": {},
   "outputs": [],
   "source": [
    "zoomin = train[['YearBuilt', 'RoofStyle',\n",
    "       'RoofMatl', 'Exterior1st', 'Exterior2nd','ExterQual', 'ExterCond', 'Foundation', 'BsmtQual', 'BsmtCond',\n",
    "       'BsmtExposure', 'BsmtFinType1', 'BsmtFinSF1', 'BsmtUnfSF', 'TotalBsmtSF', 'Heating', 'HeatingQC',\n",
    "       'CentralAir', 'Electrical', '1stFlrSF','GrLivArea', 'KitchenQual', 'TotRmsAbvGrd',\n",
    "       'Functional', 'FireplaceQu', 'GarageType', 'GarageYrBlt',\n",
    "       'GarageFinish', 'GarageCars', 'GarageArea', 'GarageQual', 'GarageCond',\n",
    "       'PavedDrive', 'SalePrice']]\n",
    "f, ax = plt.subplots(figsize=(20, 10))\n",
    "corr = zoomin.corr()\n",
    "sns.set(font_scale=1.5)\n",
    "hm = sns.heatmap(round(corr,2), annot=True, ax=ax, cmap=\"coolwarm\",fmt='.2f',\n",
    "                 linewidths=.1)\n",
    "ax.set_title('Correlation HeatMap', fontsize=30) "
   ]
  },
  {
   "cell_type": "markdown",
   "metadata": {},
   "source": [
    "# Multicollinearity VIF"
   ]
  },
  {
   "cell_type": "code",
   "execution_count": null,
   "metadata": {
    "scrolled": true
   },
   "outputs": [],
   "source": [
    "train = train.rename({'1stFlrSF':'FirstFloorSF', 'Exterior2nd_Wd Sdng': 'ExteriorS', 'Exterior2nd_Wd Shng': 'ExteriorSnd', 'HouseStyle_2.5Fin': 'HouseStyle_S', '3SsnPorch':'threesnpo','HouseStyle_2.5Unf': 'HouseStylUNf2', 'Exterior2nd_Brk Cmn':'Exterior2nd_Brk', '2ndFlrSF':'ndFlrSF', 'HouseStyle_1.5Unf':'HouseStyle_unf', 'HouseStyle_1.5Fin':'HouseStyle_fin', 'RoofMatl_Tar&Grv':'RoofMatl_Tarand', 'MSZoning_C (all)':'MSZoning_Call', 'Exterior1st_Wd Sdng': 'ExteriorFst'}, axis='columns')\n",
    "\n",
    "features = \"+\".join(train.columns.drop(['SalePrice']))\n",
    "\n",
    "y, X = dmatrices('SalePrice ~' + features, train, return_type='dataframe')\n",
    "\n",
    "vif = pd.DataFrame(index = X.columns)\n",
    "\n",
    "vif[\"VIF Factor\"] = [variance_inflation_factor(X.values, i) for i in range(X.shape[1])]\n",
    "vif[\"features\"] = X.columns\n"
   ]
  },
  {
   "cell_type": "code",
   "execution_count": null,
   "metadata": {},
   "outputs": [],
   "source": [
    "pltme = vif.query('VIF > 5 & VIF < 1000000000')\n",
    "pltme.VIF.sort_values(ascending=False) "
   ]
  },
  {
   "cell_type": "code",
   "execution_count": null,
   "metadata": {},
   "outputs": [],
   "source": [
    "plt.figure(figsize=(20,10))\n",
    "plt.bar(vif.sort_values('VIF Factor', ascending=False).iloc[165:,].columns,)"
   ]
  },
  {
   "cell_type": "code",
   "execution_count": null,
   "metadata": {},
   "outputs": [],
   "source": [
    "plt.figure(figsize=(20,10))\n",
    "plt.xticks(rotation=90)\n",
    "plt.title('VIF Factors > 5')\n",
    "plt.ylabel('VIF')\n",
    "plt.bar(pltme.VIF.sort_values(ascending=False).index[4:], pltme.VIF.sort_values(ascending=False)[4:])"
   ]
  }
 ],
 "metadata": {
  "kernelspec": {
   "display_name": "Python 3",
   "language": "python",
   "name": "python3"
  },
  "language_info": {
   "codemirror_mode": {
    "name": "ipython",
    "version": 3
   },
   "file_extension": ".py",
   "mimetype": "text/x-python",
   "name": "python",
   "nbconvert_exporter": "python",
   "pygments_lexer": "ipython3",
   "version": "3.6.6"
  }
 },
 "nbformat": 4,
 "nbformat_minor": 2
}
