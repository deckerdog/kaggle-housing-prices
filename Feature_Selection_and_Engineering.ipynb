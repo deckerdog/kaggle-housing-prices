{
 "cells": [
  {
   "cell_type": "code",
   "execution_count": 1,
   "metadata": {},
   "outputs": [],
   "source": [
    "import pandas as pd\n",
    "import numpy as np\n",
    "from sklearn.preprocessing import StandardScaler\n",
    "%matplotlib inline"
   ]
  },
  {
   "cell_type": "markdown",
   "metadata": {},
   "source": [
    "## Import Train/Test"
   ]
  },
  {
   "cell_type": "code",
   "execution_count": 2,
   "metadata": {},
   "outputs": [],
   "source": [
    "train_raw = pd.read_csv('./data/train.csv')"
   ]
  },
  {
   "cell_type": "code",
   "execution_count": 3,
   "metadata": {},
   "outputs": [],
   "source": [
    "train_df = pd.read_pickle('train.pkl')\n",
    "test_df = pd.read_pickle('test.pkl')"
   ]
  },
  {
   "cell_type": "code",
   "execution_count": 4,
   "metadata": {},
   "outputs": [],
   "source": [
    "train_df = train_df.drop('SalePrice', axis=1)"
   ]
  },
  {
   "cell_type": "code",
   "execution_count": 5,
   "metadata": {},
   "outputs": [],
   "source": [
    "cols_raw = train_raw.columns\n",
    "non_dummies = [x for x in train_df.columns if not '_' in x ]"
   ]
  },
  {
   "cell_type": "markdown",
   "metadata": {},
   "source": [
    "## Remove Features"
   ]
  },
  {
   "cell_type": "code",
   "execution_count": 6,
   "metadata": {},
   "outputs": [],
   "source": [
    "# train_df = train_df.drop(\n",
    "#     'PoolArea', axis=1) # mostly 0 and coleniar with 3SsnPorch and there is a binary for poolquality"
   ]
  },
  {
   "cell_type": "markdown",
   "metadata": {},
   "source": [
    "## Binary for 3SsnPorch"
   ]
  },
  {
   "cell_type": "code",
   "execution_count": 7,
   "metadata": {},
   "outputs": [],
   "source": [
    "train_df['3SsnPorch'] = train_df['3SsnPorch'].isna().apply(lambda x: int(not x))"
   ]
  },
  {
   "cell_type": "code",
   "execution_count": 8,
   "metadata": {},
   "outputs": [],
   "source": [
    "test_df['3SsnPorch'] = test_df['3SsnPorch'].isna().apply(lambda x: int(not x))"
   ]
  },
  {
   "cell_type": "markdown",
   "metadata": {},
   "source": [
    "# Dates"
   ]
  },
  {
   "cell_type": "code",
   "execution_count": 9,
   "metadata": {},
   "outputs": [],
   "source": [
    "def add_dummies_remove_modes(dummy_list, df_raw, df):\n",
    "    \"\"\" \n",
    "    add_dummies_remove_modes (dummy_list, df_raw, df)\n",
    "    takes a list of column names `dummy_list` to dummify then drop \n",
    "    after dummification, a reference dataframe `df_raw` to search for \n",
    "    the dominant value of each varable in `dummy_list` then drop the \n",
    "    dominant dummy variable and a dataframe `df` you wish to concat \n",
    "    dummified variables to.\n",
    "    \"\"\"\n",
    "\n",
    "    dummy_modes = list(df_raw[dummy_list].mode().iloc[0,:].items())\n",
    "\n",
    "    dummy_modes = [(col, (float(mode))) \n",
    "                   if type(mode) == int else (col, mode) for col, mode in dummy_modes]\n",
    "\n",
    "    drop_modes = list(map(lambda x: str(x[0]) + '_' + str(x[1]), dummy_modes))\n",
    "\n",
    "    dummy_cols = pd.get_dummies(\n",
    "        df[dummy_list].astype(object), dummy_na=True).drop(drop_modes, axis=1)\n",
    "\n",
    "    return pd.concat([\n",
    "       df.drop(dummy_list, axis=1),\n",
    "       dummy_cols], axis=1)\n"
   ]
  },
  {
   "cell_type": "code",
   "execution_count": 10,
   "metadata": {},
   "outputs": [],
   "source": [
    "# dates = ['YearBuilt', 'YearRemodAdd', 'GarageYrBlt', 'MoSold', 'YrSold']\n",
    "# train_df[dates].describe()"
   ]
  },
  {
   "cell_type": "markdown",
   "metadata": {},
   "source": [
    "## Change remodled year to years since remodeled"
   ]
  },
  {
   "cell_type": "code",
   "execution_count": 14,
   "metadata": {},
   "outputs": [],
   "source": [
    "train_df['YearRemodAdd']  = (train_df['YrSold'] - train_df['YearRemodAdd'])"
   ]
  },
  {
   "cell_type": "code",
   "execution_count": 15,
   "metadata": {},
   "outputs": [],
   "source": [
    "test_df['YearRemodAdd']  = (test_df['YrSold'] - test_df['YearRemodAdd'])"
   ]
  },
  {
   "cell_type": "markdown",
   "metadata": {},
   "source": [
    "## Bin years then dummifying"
   ]
  },
  {
   "cell_type": "code",
   "execution_count": 18,
   "metadata": {},
   "outputs": [],
   "source": [
    "# Yb = train_df['YearBuilt']\n",
    "\n",
    "# range_bins = [(1800,1900), (1900,1910), (1910,1920), (1920,1930), (1930,1940), (1940,1950), (1950,1960), (1960,1970), (1970,1980), (1980,1990), (1990,2000), (2000,2011)]\n",
    "\n",
    "# bins = {r:x for (x,y) in range_bins for r in range(x,y)}\n",
    "\n",
    "# train_df = pd.concat([train_df.drop('YearBuilt', axis=1), Yb.map(bins)], axis=1)"
   ]
  },
  {
   "cell_type": "code",
   "execution_count": 19,
   "metadata": {},
   "outputs": [],
   "source": [
    "# Yb = test_df['YearBuilt']\n",
    "# test_df = pd.concat([test_df.drop('YearBuilt', axis=1), Yb.map(bins)], axis=1)"
   ]
  },
  {
   "cell_type": "markdown",
   "metadata": {},
   "source": [
    "## Convert Year to Age"
   ]
  },
  {
   "cell_type": "code",
   "execution_count": 20,
   "metadata": {},
   "outputs": [],
   "source": [
    "train_df[['Age']] = train_df[['YearBuilt']].apply(lambda x: x.max() - x)"
   ]
  },
  {
   "cell_type": "code",
   "execution_count": 21,
   "metadata": {},
   "outputs": [],
   "source": [
    "train_df = train_df.drop('YearBuilt', axis=1)"
   ]
  },
  {
   "cell_type": "code",
   "execution_count": 22,
   "metadata": {},
   "outputs": [],
   "source": [
    "test_df[['Age']] = test_df[['YearBuilt']].apply(lambda x: x.max() - x)"
   ]
  },
  {
   "cell_type": "code",
   "execution_count": 23,
   "metadata": {},
   "outputs": [],
   "source": [
    "test_df = test_df.drop('YearBuilt', axis=1)"
   ]
  },
  {
   "cell_type": "markdown",
   "metadata": {},
   "source": [
    "## Dummify MoSold and YrSold"
   ]
  },
  {
   "cell_type": "code",
   "execution_count": 356,
   "metadata": {},
   "outputs": [],
   "source": [
    "# train_df = add_dummies_remove_modes(['MoSold', 'YrSold'], train_df, train_df)"
   ]
  },
  {
   "cell_type": "markdown",
   "metadata": {},
   "source": [
    "## Standardize Continuous"
   ]
  },
  {
   "cell_type": "code",
   "execution_count": 22,
   "metadata": {
    "scrolled": true
   },
   "outputs": [],
   "source": [
    "# cont = train_df.T[np.array(train_df.nunique() > 50)].T.columns.delete(-1)\n",
    "# scale = StandardScaler()\n",
    "# train_df[cont] = scale.fit_transform(train_df[cont])"
   ]
  },
  {
   "cell_type": "code",
   "execution_count": 21,
   "metadata": {
    "scrolled": true
   },
   "outputs": [],
   "source": [
    "# cont = test_df.T[np.array(test_df.nunique() > 50)].T.columns.delete(-1)\n",
    "# scale = StandardScaler()\n",
    "# test_df[cont] = scale.fit_transform(test_df[cont])"
   ]
  },
  {
   "cell_type": "markdown",
   "metadata": {},
   "source": [
    "## Reorder"
   ]
  },
  {
   "cell_type": "code",
   "execution_count": 24,
   "metadata": {},
   "outputs": [],
   "source": [
    "test_df = test_df[train_df.columns]"
   ]
  },
  {
   "cell_type": "markdown",
   "metadata": {},
   "source": [
    "# Add SalePrice"
   ]
  },
  {
   "cell_type": "code",
   "execution_count": 25,
   "metadata": {},
   "outputs": [],
   "source": [
    "train_df['SalePrice'] = train_raw['SalePrice']#.apply(lambda x: np.log(x))"
   ]
  },
  {
   "cell_type": "markdown",
   "metadata": {},
   "source": [
    "# Pickle"
   ]
  },
  {
   "cell_type": "code",
   "execution_count": 26,
   "metadata": {},
   "outputs": [],
   "source": [
    "train_df.to_pickle('train_engineered.pkl')"
   ]
  },
  {
   "cell_type": "code",
   "execution_count": 27,
   "metadata": {},
   "outputs": [],
   "source": [
    "test_df.to_pickle('test_engineered.pkl')"
   ]
  }
 ],
 "metadata": {
  "kernelspec": {
   "display_name": "Python 3",
   "language": "python",
   "name": "python3"
  },
  "language_info": {
   "codemirror_mode": {
    "name": "ipython",
    "version": 3
   },
   "file_extension": ".py",
   "mimetype": "text/x-python",
   "name": "python",
   "nbconvert_exporter": "python",
   "pygments_lexer": "ipython3",
   "version": "3.6.6"
  }
 },
 "nbformat": 4,
 "nbformat_minor": 2
}
